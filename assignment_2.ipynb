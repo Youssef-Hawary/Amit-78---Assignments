{
 "cells": [
  {
   "cell_type": "code",
   "execution_count": 9,
   "metadata": {},
   "outputs": [
    {
     "name": "stdout",
     "output_type": "stream",
     "text": [
      "hi\n"
     ]
    }
   ],
   "source": [
    "#Write a Python program to create a tuple of numbers and print one item.\n",
    "tuplee = (\"hello\" , \"hi\" , \"welcome\")\n",
    "print(tuplee[1])"
   ]
  },
  {
   "cell_type": "code",
   "execution_count": null,
   "metadata": {},
   "outputs": [],
   "source": [
    "#2. Unpack a Tuple into Several Variables\n",
    "person = (\"Alice\", 30, \"Engineer\")\n",
    "\n",
    "name, age, profession = person\n",
    "\n",
    "print(\"Name:\", name)\n",
    "print(\"Age:\", age)\n",
    "print(\"Profession:\", profession)\n"
   ]
  },
  {
   "cell_type": "code",
   "execution_count": null,
   "metadata": {},
   "outputs": [],
   "source": [
    "#3. Add an Item to a Tuple at Index Number 2\n",
    "numbers = (10, 20, 30, 40, 50)\n",
    "\n",
    "new_item = 25\n",
    "\n",
    "numbers_list = list(numbers)\n",
    "numbers_list.insert(2, new_item)\n",
    "new_tuple = tuple(numbers_list)\n",
    "\n",
    "print(\"Updated tuple:\", new_tuple)\n"
   ]
  },
  {
   "cell_type": "code",
   "execution_count": null,
   "metadata": {},
   "outputs": [],
   "source": [
    "#4. Convert a Tuple to a String\n",
    "numbers = (10, 20, 30, 40, 50)\n",
    "\n",
    "numbers_string = ', '.join(map(str, numbers))\n",
    "\n",
    "print(\"Tuple as a string:\", numbers_string)\n"
   ]
  },
  {
   "cell_type": "code",
   "execution_count": null,
   "metadata": {},
   "outputs": [],
   "source": [
    "#5\n",
    "numbers = (10, 20, 30, 10, 20, 40, 50, 10)\n",
    "\n",
    "repeated_items = set([item for item in numbers if numbers.count(item) > 1])\n",
    "\n",
    "print(\"Repeated items:\", repeated_items)\n"
   ]
  },
  {
   "cell_type": "code",
   "execution_count": null,
   "metadata": {},
   "outputs": [],
   "source": [
    "#6\n",
    "numbers = (10, 20, 30, 40, 50)\n",
    "\n",
    "item_to_remove = 30\n",
    "\n",
    "new_tuple = tuple(item for item in numbers if item != item_to_remove)\n",
    "\n",
    "print(\"Tuple after removal:\", new_tuple)\n"
   ]
  },
  {
   "cell_type": "code",
   "execution_count": null,
   "metadata": {},
   "outputs": [],
   "source": [
    "#7\n",
    "numbers = (10, 20, 30, 40, 50)\n",
    "\n",
    "reversed_tuple = numbers[::-1]\n",
    "\n",
    "print(\"Reversed tuple:\", reversed_tuple)\n"
   ]
  },
  {
   "cell_type": "code",
   "execution_count": null,
   "metadata": {},
   "outputs": [],
   "source": [
    "#8\n",
    "tuples_list = [(10, 20, 30), (40, 50, 60), (70, 80, 90)]\n",
    "\n",
    "new_value = 100\n",
    "\n",
    "updated_list = [t[:-1] + (new_value,) for t in tuples_list]\n",
    "\n",
    "print(\"Updated list of tuples:\", updated_list)\n"
   ]
  },
  {
   "cell_type": "markdown",
   "metadata": {},
   "source": [
    "LISTs"
   ]
  },
  {
   "cell_type": "code",
   "execution_count": null,
   "metadata": {},
   "outputs": [],
   "source": [
    "# 1. Create a list of your favorite fruits. Add another fruit to the end of the list using append().\n",
    "fruits = [\"apple\", \"banana\", \"cherry\"]\n",
    "fruits.append(\"orange\")\n",
    "print(fruits)"
   ]
  },
  {
   "cell_type": "code",
   "execution_count": null,
   "metadata": {},
   "outputs": [],
   "source": [
    "# 2. Create two lists of numbers, then extend the first list by adding all elements from the second list using extend().\n",
    "numbers1 = [1, 2, 3]\n",
    "numbers2 = [4, 5, 6]\n",
    "numbers1.extend(numbers2)\n",
    "print(numbers1)"
   ]
  },
  {
   "cell_type": "code",
   "execution_count": null,
   "metadata": {},
   "outputs": [],
   "source": [
    "# 3. Insert(index, item) Start with a list of colors. Insert a new color at the second position (index 1).\n",
    "colors = [\"red\", \"blue\", \"green\"]\n",
    "colors.insert(1, \"yellow\")\n",
    "print(colors)"
   ]
  },
  {
   "cell_type": "code",
   "execution_count": null,
   "metadata": {},
   "outputs": [],
   "source": [
    "# 4. Create a list of city names with some duplicates. Use remove() to delete the first occurrence of a city.\n",
    "cities = [\"New York\", \"Los Angeles\", \"Chicago\", \"New York\"]\n",
    "cities.remove(\"New York\")\n",
    "print(cities)"
   ]
  },
  {
   "cell_type": "code",
   "execution_count": null,
   "metadata": {},
   "outputs": [],
   "source": [
    "# 1.\n",
    "country_capitals = {\"USA\": \"Washington D.C.\", \"France\": \"Paris\", \"Japan\": \"Tokyo\"}\n",
    "capital_of_france = country_capitals.get(\"France\", \"Capital not found\")\n",
    "print(capital_of_france)\n"
   ]
  },
  {
   "cell_type": "code",
   "execution_count": null,
   "metadata": {},
   "outputs": [],
   "source": [
    "# 2.\n",
    "languages_frameworks = {\"Python\": \"Django\", \"JavaScript\": \"React\", \"Java\": \"Spring\"}\n",
    "languages = languages_frameworks.keys()\n",
    "print(languages)\n"
   ]
  },
  {
   "cell_type": "code",
   "execution_count": null,
   "metadata": {},
   "outputs": [],
   "source": [
    "# 3.\n",
    "frameworks = languages_frameworks.values()\n",
    "print(frameworks)\n"
   ]
  },
  {
   "cell_type": "code",
   "execution_count": null,
   "metadata": {},
   "outputs": [],
   "source": [
    "# 4.\n",
    "items_prices = {\"apple\": 1.2, \"banana\": 0.5, \"orange\": 0.8}\n",
    "item_price_pairs = items_prices.items()\n",
    "print(item_price_pairs)\n"
   ]
  },
  {
   "cell_type": "code",
   "execution_count": null,
   "metadata": {},
   "outputs": [],
   "source": [
    "# 5.\n",
    "student_grades = {\"Alice\": \"A\", \"Bob\": \"B\"}\n",
    "student_grades.update({\"Charlie\": \"A+\"})\n",
    "print(student_grades)\n"
   ]
  },
  {
   "cell_type": "code",
   "execution_count": null,
   "metadata": {},
   "outputs": [],
   "source": [
    "# 6.\n",
    "students = {\"Alice\": \"A\", \"Bob\": \"B\", \"Charlie\": \"A+\"}\n",
    "removed_student = students.pop(\"Bob\")\n",
    "print(removed_student)\n"
   ]
  },
  {
   "cell_type": "code",
   "execution_count": null,
   "metadata": {},
   "outputs": [],
   "source": [
    "# 7.\n",
    "my_dict = {\"name\": \"Alice\", \"age\": 25, \"city\": \"New York\"}\n",
    "my_dict.clear()\n",
    "print(my_dict)\n"
   ]
  },
  {
   "cell_type": "code",
   "execution_count": null,
   "metadata": {},
   "outputs": [],
   "source": []
  }
 ],
 "metadata": {
  "kernelspec": {
   "display_name": "Python 3",
   "language": "python",
   "name": "python3"
  },
  "language_info": {
   "codemirror_mode": {
    "name": "ipython",
    "version": 3
   },
   "file_extension": ".py",
   "mimetype": "text/x-python",
   "name": "python",
   "nbconvert_exporter": "python",
   "pygments_lexer": "ipython3",
   "version": "3.12.7"
  }
 },
 "nbformat": 4,
 "nbformat_minor": 2
}
